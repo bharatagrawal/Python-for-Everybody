{
 "cells": [
  {
   "cell_type": "markdown",
   "metadata": {},
   "source": [
    "#  Chapter 3 - Conditional Code Quiz"
   ]
  },
  {
   "cell_type": "markdown",
   "metadata": {},
   "source": [
    "###### Que1: What do we do to a Python statement that is immediately after an if statement to indicate that the statement is to be executed only when the if statement is true?"
   ]
  },
  {
   "cell_type": "markdown",
   "metadata": {},
   "source": [
    "Ans: Indent the line below the if statement"
   ]
  },
  {
   "cell_type": "markdown",
   "metadata": {},
   "source": [
    "###### Que2: Which of these operators is not a comparison / logical operator?"
   ]
  },
  {
   "cell_type": "markdown",
   "metadata": {},
   "source": [
    "Ans: ="
   ]
  },
  {
   "cell_type": "markdown",
   "metadata": {},
   "source": [
    "###### Que3: What is true about the following code segment:\n",
    "\n",
    "        if x == 5:\n",
    "           print('Is 5' )\n",
    "           print('Is Still 5')\n",
    "           print('Third 5')"
   ]
  },
  {
   "cell_type": "markdown",
   "metadata": {},
   "source": [
    "Ans: Depending on the value of x, either all three of the print statements will execute or none of the statements will execute"
   ]
  },
  {
   "cell_type": "markdown",
   "metadata": {},
   "source": [
    "###### Que4: When you have multiple lines in an if block, how do you indicate the end of the if block?"
   ]
  },
  {
   "cell_type": "markdown",
   "metadata": {},
   "source": [
    "Ans: You de-indent the next line past the if block to the same level of indent as the original if statement"
   ]
  },
  {
   "cell_type": "markdown",
   "metadata": {},
   "source": [
    "###### Que5: You look at the following text:\n",
    "\n",
    "        if x == 6 :\n",
    "           print('Is 6')\n",
    "           print('Is Still 6')\n",
    "           print('Third 6')\n",
    "\n",
    "###### It looks perfect but Python is giving you an 'Indentation Error' on the second print statement. What is the most likely reason?"
   ]
  },
  {
   "cell_type": "markdown",
   "metadata": {},
   "source": [
    "Ans: You have mixed tabs and spaces in the file"
   ]
  },
  {
   "cell_type": "markdown",
   "metadata": {},
   "source": [
    "###### Que6: What is the Python reserved word that we use in two-way if tests to indicate the block of code that is to be executed if the logical test is false?"
   ]
  },
  {
   "cell_type": "markdown",
   "metadata": {},
   "source": [
    "Ans: else"
   ]
  },
  {
   "cell_type": "markdown",
   "metadata": {},
   "source": [
    "###### Que7: What will the following code print out?\n",
    "        x = 0\n",
    "        if x < 2 :\n",
    "           print('Small')\n",
    "        elif x < 10 :\n",
    "           print('Medium')\n",
    "        else :\n",
    "           print('LARGE')\n",
    "        print('All done')\n"
   ]
  },
  {
   "cell_type": "markdown",
   "metadata": {},
   "source": [
    "Ans: Small\n",
    "\n",
    " All done"
   ]
  },
  {
   "cell_type": "markdown",
   "metadata": {},
   "source": [
    "###### Que8: For the following code,\n",
    "\n",
    "        if x < 2 :\n",
    "            print('Below 2')\n",
    "        elif x >= 2 :\n",
    "            print('Two or more')\n",
    "        else :\n",
    "            print('Something else')\n",
    "\n",
    "###### What value of 'x' will cause 'Something else' to print out?"
   ]
  },
  {
   "cell_type": "markdown",
   "metadata": {},
   "source": [
    "Ans: This code will never print 'Something else' regardless of the value for 'x'"
   ]
  },
  {
   "cell_type": "markdown",
   "metadata": {},
   "source": [
    "###### Que9: In the following code (numbers added) - which will be the last line to execute successfully?\n",
    "\n",
    "         (1)   astr = 'Hello Bob'\n",
    "         (2)   istr = int(astr)\n",
    "         (3)   print('First', istr)\n",
    "         (4)   astr = '123'\n",
    "         (5)   istr = int(astr)\n",
    "         (6)   print('Second', istr)\n"
   ]
  },
  {
   "cell_type": "markdown",
   "metadata": {},
   "source": [
    "Ans: 1"
   ]
  },
  {
   "cell_type": "markdown",
   "metadata": {},
   "source": [
    "###### Que10: For the following code:\n",
    "\n",
    "        astr = 'Hello Bob'\n",
    "        istr = 0\n",
    "        try:\n",
    "            istr = int(astr)\n",
    "        except:\n",
    "            istr = -1\n",
    "\n",
    "###### What will the value be for istr after this code executes?"
   ]
  },
  {
   "cell_type": "markdown",
   "metadata": {},
   "source": [
    "Ans: -1"
   ]
  },
  {
   "cell_type": "markdown",
   "metadata": {},
   "source": [
    "# Bye"
   ]
  }
 ],
 "metadata": {
  "kernelspec": {
   "display_name": "Python 3",
   "language": "python",
   "name": "python3"
  },
  "language_info": {
   "codemirror_mode": {
    "name": "ipython",
    "version": 3
   },
   "file_extension": ".py",
   "mimetype": "text/x-python",
   "name": "python",
   "nbconvert_exporter": "python",
   "pygments_lexer": "ipython3",
   "version": "3.7.3"
  }
 },
 "nbformat": 4,
 "nbformat_minor": 2
}
