{
 "cells": [
  {
   "cell_type": "markdown",
   "metadata": {},
   "source": [
    "#  Chapter 4 - Functions Quiz"
   ]
  },
  {
   "cell_type": "markdown",
   "metadata": {},
   "source": [
    "###### Que1:  Which Python keyword indicates the start of a function definition?"
   ]
  },
  {
   "cell_type": "markdown",
   "metadata": {},
   "source": [
    "Ans: def"
   ]
  },
  {
   "cell_type": "markdown",
   "metadata": {},
   "source": [
    "###### Que2: In Python, how do you indicate the end of the block of code that makes up the function?"
   ]
  },
  {
   "cell_type": "markdown",
   "metadata": {},
   "source": [
    "Ans: You de-indent a line of code to the same indent level as the def keyword"
   ]
  },
  {
   "cell_type": "markdown",
   "metadata": {},
   "source": [
    "###### Que3: In Python what is the input() feature best described as?"
   ]
  },
  {
   "cell_type": "markdown",
   "metadata": {},
   "source": [
    "Ans: A built-in function\n",
    "\n"
   ]
  },
  {
   "cell_type": "markdown",
   "metadata": {},
   "source": [
    "###### Que4: What does the following code print out?\n",
    "\n",
    "        def thing():\n",
    "            print('Hello')\n",
    "\n",
    "        print('There')"
   ]
  },
  {
   "cell_type": "markdown",
   "metadata": {},
   "source": [
    "Ans: There"
   ]
  },
  {
   "cell_type": "markdown",
   "metadata": {},
   "source": [
    "###### Que5: In the following Python code, which of the following is an \"argument\" to a function?\n",
    "\n",
    "        x = 'banana'\n",
    "        y = max(x)\n",
    "        print(y)\n"
   ]
  },
  {
   "cell_type": "markdown",
   "metadata": {},
   "source": [
    "Ans: x"
   ]
  },
  {
   "cell_type": "markdown",
   "metadata": {},
   "source": [
    "###### Que6: What will the following Python code print out?\n",
    "\n",
    "        def func(x) :\n",
    "            print(x)\n",
    "\n",
    "        func(10)\n",
    "        func(20)"
   ]
  },
  {
   "cell_type": "markdown",
   "metadata": {},
   "source": [
    "Ans: 10\n",
    "\n",
    "20"
   ]
  },
  {
   "cell_type": "markdown",
   "metadata": {},
   "source": [
    "###### Que7:  Which line of the following Python program will never execute?\n",
    "\n",
    "        def stuff():\n",
    "            print('Hello')\n",
    "            return\n",
    "            print('World')\n",
    "\n",
    "        stuff()\n"
   ]
  },
  {
   "cell_type": "markdown",
   "metadata": {},
   "source": [
    "Ans: print ('World')"
   ]
  },
  {
   "cell_type": "markdown",
   "metadata": {},
   "source": [
    "###### Que8: What will the following Python program print out?\n",
    "\n",
    "        def greet(lang):\n",
    "            if lang == 'es':\n",
    "                return 'Hola'\n",
    "            elif lang == 'fr':\n",
    "                return 'Bonjour'\n",
    "            else:\n",
    "                return 'Hello'\n",
    "\n",
    "        print(greet('fr'),'Michael')"
   ]
  },
  {
   "cell_type": "markdown",
   "metadata": {},
   "source": [
    "Ans: Bonjour Michael"
   ]
  },
  {
   "cell_type": "markdown",
   "metadata": {},
   "source": [
    "###### Que9: What does the following Python code print out? (Note that this is a bit of a trick question and the code has what many would consider to be a flaw/bug - so read carefully).\n",
    "\n",
    "        def addtwo(a, b):\n",
    "            added = a + b\n",
    "            return a\n",
    "\n",
    "        x = addtwo(2, 7)\n",
    "        print(x)\n"
   ]
  },
  {
   "cell_type": "markdown",
   "metadata": {},
   "source": [
    "Ans: 2"
   ]
  },
  {
   "cell_type": "markdown",
   "metadata": {},
   "source": [
    "###### Que10: What is the most important benefit of writing your own functions?"
   ]
  },
  {
   "cell_type": "markdown",
   "metadata": {},
   "source": [
    "Ans: Avoiding writing the same non-trivial code more than once in your program"
   ]
  },
  {
   "cell_type": "markdown",
   "metadata": {},
   "source": [
    "# Bye"
   ]
  }
 ],
 "metadata": {
  "kernelspec": {
   "display_name": "Python 3",
   "language": "python",
   "name": "python3"
  },
  "language_info": {
   "codemirror_mode": {
    "name": "ipython",
    "version": 3
   },
   "file_extension": ".py",
   "mimetype": "text/x-python",
   "name": "python",
   "nbconvert_exporter": "python",
   "pygments_lexer": "ipython3",
   "version": "3.7.3"
  }
 },
 "nbformat": 4,
 "nbformat_minor": 2
}
