{
 "cells": [
  {
   "cell_type": "markdown",
   "metadata": {},
   "source": [
    "#  Chapter 5 - Loops and Iteration Quiz"
   ]
  },
  {
   "cell_type": "markdown",
   "metadata": {},
   "source": [
    "###### Que1: What is wrong with this Python loop:\n",
    "\n",
    "        n = 5\n",
    "        while n > 0 :\n",
    "            print(n)\n",
    "        print('All done')"
   ]
  },
  {
   "cell_type": "markdown",
   "metadata": {},
   "source": [
    "Ans: This loop will run forever."
   ]
  },
  {
   "cell_type": "markdown",
   "metadata": {},
   "source": [
    "###### Que2:What does the break statement do?\n"
   ]
  },
  {
   "cell_type": "markdown",
   "metadata": {},
   "source": [
    "Ans:  Exits the currently executing loop"
   ]
  },
  {
   "cell_type": "markdown",
   "metadata": {},
   "source": [
    "###### Que3:  What does the continue statement do?"
   ]
  },
  {
   "cell_type": "markdown",
   "metadata": {},
   "source": [
    "Ans: Jumps to the \"top\" of the loop and starts the next iteration"
   ]
  },
  {
   "cell_type": "markdown",
   "metadata": {},
   "source": [
    "###### Que4: What does the following Python program print out?\n",
    "\n",
    "        tot = 0\n",
    "        for i in [5, 4, 3, 2, 1] :\n",
    "            tot = tot + 1\n",
    "        print(tot)"
   ]
  },
  {
   "cell_type": "markdown",
   "metadata": {},
   "source": [
    "Ans: 5"
   ]
  },
  {
   "cell_type": "markdown",
   "metadata": {},
   "source": [
    "###### Que5: What is the iteration variable in the following Python code:\n",
    "\n",
    "        friends = ['Joseph', 'Glenn', 'Sally']\n",
    "        for friend in friends :\n",
    "             print('Happy New Year:',  friend)\n",
    "        print('Done!')"
   ]
  },
  {
   "cell_type": "markdown",
   "metadata": {},
   "source": [
    "Ans: friend"
   ]
  },
  {
   "cell_type": "markdown",
   "metadata": {},
   "source": [
    "###### Que6: What is a good description of the following bit of Python code?\n",
    "\n",
    "        zork = 0\n",
    "        for thing in [9, 41, 12, 3, 74, 15] :\n",
    "            zork = zork + thing\n",
    "        print('After', zork)"
   ]
  },
  {
   "cell_type": "markdown",
   "metadata": {},
   "source": [
    "Ans: Sum all the elements of a list"
   ]
  },
  {
   "cell_type": "markdown",
   "metadata": {},
   "source": [
    "###### Que7: What will the following code print out?\n",
    "\n",
    "        smallest_so_far = -1\n",
    "        for the_num in [9, 41, 12, 3, 74, 15] :\n",
    "           if the_num < smallest_so_far :\n",
    "              smallest_so_far = the_num\n",
    "        print(smallest_so_far)"
   ]
  },
  {
   "cell_type": "markdown",
   "metadata": {},
   "source": [
    "Ans: -1"
   ]
  },
  {
   "cell_type": "markdown",
   "metadata": {},
   "source": [
    "###### Que8: What is a good statement to describe the is operator as used in the following if statement:\n",
    "\n",
    "        if smallest is None :\n",
    "             smallest = value"
   ]
  },
  {
   "cell_type": "markdown",
   "metadata": {},
   "source": [
    "Ans: matches both type and value"
   ]
  },
  {
   "cell_type": "markdown",
   "metadata": {},
   "source": [
    "###### Que9: Which reserved word indicates the start of an \"indefinite\" loop in Python?\n"
   ]
  },
  {
   "cell_type": "markdown",
   "metadata": {},
   "source": [
    "Ans: while"
   ]
  },
  {
   "cell_type": "markdown",
   "metadata": {},
   "source": [
    "###### Que10: How many times will the body of the following loop be executed?\n",
    "\n",
    "        n = 0\n",
    "        while n > 0 :\n",
    "            print('Lather')\n",
    "            print('Rinse')\n",
    "        print('Dry off!')"
   ]
  },
  {
   "cell_type": "markdown",
   "metadata": {},
   "source": [
    "Ans: 0"
   ]
  },
  {
   "cell_type": "markdown",
   "metadata": {},
   "source": [
    "# Bye"
   ]
  }
 ],
 "metadata": {
  "kernelspec": {
   "display_name": "Python 3",
   "language": "python",
   "name": "python3"
  },
  "language_info": {
   "codemirror_mode": {
    "name": "ipython",
    "version": 3
   },
   "file_extension": ".py",
   "mimetype": "text/x-python",
   "name": "python",
   "nbconvert_exporter": "python",
   "pygments_lexer": "ipython3",
   "version": "3.7.3"
  }
 },
 "nbformat": 4,
 "nbformat_minor": 2
}
