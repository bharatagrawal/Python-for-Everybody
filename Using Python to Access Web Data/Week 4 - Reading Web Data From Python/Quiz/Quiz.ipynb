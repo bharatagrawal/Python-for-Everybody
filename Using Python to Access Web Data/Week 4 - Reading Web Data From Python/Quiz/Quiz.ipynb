{
 "cells": [
  {
   "cell_type": "markdown",
   "metadata": {},
   "source": [
    "# Programs that Surf the Web Quiz"
   ]
  },
  {
   "cell_type": "markdown",
   "metadata": {},
   "source": [
    "###### Que1. Which of the following Python data structures is most similar to the value returned in this line of Python:\n",
    "\n",
    "        x = urllib.request.urlopen('http://www.py4inf.com/code/romeo.txt')"
   ]
  },
  {
   "cell_type": "markdown",
   "metadata": {},
   "source": [
    "Ans:-  file handle"
   ]
  },
  {
   "cell_type": "markdown",
   "metadata": {},
   "source": [
    "###### Que2. In this Python code, which line actually reads the data?\n",
    "\n",
    "        import socket\n",
    "        mysock = socket.socket(socket.AF_INET, socket.SOCK_STREAM)\n",
    "        mysock.connect(('www.py4inf.com', 80))\n",
    "        mysock.send('GET http://www.py4inf.com/code/romeo.txt HTTP/1.0\\n\\n'.encode())\n",
    "        while True:\n",
    "            data = mysock.recv(512)\n",
    "            if ( len(data) < 1 ) :\n",
    "                break\n",
    "            print(data)\n",
    "        mysock.close()"
   ]
  },
  {
   "cell_type": "markdown",
   "metadata": {},
   "source": [
    "Ans:-  mysock.recv()"
   ]
  },
  {
   "cell_type": "markdown",
   "metadata": {},
   "source": [
    "###### Que3. Which of the following regular expressions would extract the URL from this line of HTML:\n",
    "\n",
    "        <p>Please click <a href=\"http://www.dr-chuck.com\">here</a></p>\n"
   ]
  },
  {
   "cell_type": "markdown",
   "metadata": {},
   "source": [
    "Ans:- href=\"(.+)\""
   ]
  },
  {
   "cell_type": "markdown",
   "metadata": {},
   "source": [
    "###### Que4. In this Python code, which line is most like the open() call to read a file:\n",
    "\n",
    "        import socket\n",
    "        mysock = socket.socket(socket.AF_INET, socket.SOCK_STREAM)\n",
    "        mysock.connect(('www.py4inf.com', 80))\n",
    "        mysock.send('GET http://www.py4inf.com/code/romeo.txt HTTP/1.0\\n\\n')\n",
    "        while True:\n",
    "            data = mysock.recv(512)\n",
    "            if ( len(data) < 1 ) :\n",
    "                break\n",
    "            print(data)\n",
    "        mysock.close()"
   ]
  },
  {
   "cell_type": "markdown",
   "metadata": {},
   "source": [
    "Ans:- mysock.connect()"
   ]
  },
  {
   "cell_type": "markdown",
   "metadata": {},
   "source": [
    "###### Que5. Which HTTP header tells the browser the kind of document that is being returned?"
   ]
  },
  {
   "cell_type": "markdown",
   "metadata": {},
   "source": [
    "Ans:- Content-Type"
   ]
  },
  {
   "cell_type": "markdown",
   "metadata": {},
   "source": [
    "###### Que6. What should you check before scraping a web site?"
   ]
  },
  {
   "cell_type": "markdown",
   "metadata": {},
   "source": [
    "Ans:-  That the web site allows scraping"
   ]
  },
  {
   "cell_type": "markdown",
   "metadata": {},
   "source": [
    "###### Que7. What is the purpose of the BeautifulSoup Python library?\n"
   ]
  },
  {
   "cell_type": "markdown",
   "metadata": {},
   "source": [
    "Ans:- It repairs and parses HTML to make it easier for a program to understand."
   ]
  },
  {
   "cell_type": "markdown",
   "metadata": {},
   "source": [
    "###### Que8. What ends up in the \"x\" variable in the following code:\n",
    "\n",
    "        html = urllib.request.urlopen(url).read()\n",
    "        soup = BeautifulSoup(html)\n",
    "        x = soup('a')"
   ]
  },
  {
   "cell_type": "markdown",
   "metadata": {},
   "source": [
    "Ans:- A list of all the anchor tags (<a..) in the HTML from the URL"
   ]
  },
  {
   "cell_type": "markdown",
   "metadata": {},
   "source": [
    "###### Que9. What is the decimal (Base-10) numeric value for the upper case letter \"G\" in the ASCII character set?"
   ]
  },
  {
   "cell_type": "markdown",
   "metadata": {},
   "source": [
    "Ans:-  71"
   ]
  },
  {
   "cell_type": "markdown",
   "metadata": {},
   "source": [
    "###### Que10. How are strings stored internally in Python 3?"
   ]
  },
  {
   "cell_type": "markdown",
   "metadata": {},
   "source": [
    "Ans:- Unicode"
   ]
  },
  {
   "cell_type": "markdown",
   "metadata": {},
   "source": [
    "###### Que11. What word does the following sequence of numbers represent in ASCII:\n",
    "           108, 105, 110, 101"
   ]
  },
  {
   "cell_type": "markdown",
   "metadata": {},
   "source": [
    "Ans:- line"
   ]
  },
  {
   "cell_type": "markdown",
   "metadata": {},
   "source": [
    "###### Que12. What is the most common Unicode encoding when moving data between systems?"
   ]
  },
  {
   "cell_type": "markdown",
   "metadata": {},
   "source": [
    "Ans:- UTF-8"
   ]
  },
  {
   "cell_type": "markdown",
   "metadata": {},
   "source": [
    "###### Que13. When reading data across the network (i.e. from a URL) in Python 3, what method must be used to convert it to the internal format used by strings?\n"
   ]
  },
  {
   "cell_type": "markdown",
   "metadata": {},
   "source": [
    "Ans:-  decode()\n",
    "\n"
   ]
  },
  {
   "cell_type": "markdown",
   "metadata": {},
   "source": [
    "# Bye"
   ]
  }
 ],
 "metadata": {
  "kernelspec": {
   "display_name": "Python 3",
   "language": "python",
   "name": "python3"
  },
  "language_info": {
   "codemirror_mode": {
    "name": "ipython",
    "version": 3
   },
   "file_extension": ".py",
   "mimetype": "text/x-python",
   "name": "python",
   "nbconvert_exporter": "python",
   "pygments_lexer": "ipython3",
   "version": "3.7.3"
  }
 },
 "nbformat": 4,
 "nbformat_minor": 2
}
