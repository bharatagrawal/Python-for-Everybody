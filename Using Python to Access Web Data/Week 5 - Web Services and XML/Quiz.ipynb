{
 "cells": [
  {
   "cell_type": "markdown",
   "metadata": {},
   "source": [
    "# eXtensible Markup Language"
   ]
  },
  {
   "cell_type": "markdown",
   "metadata": {},
   "source": [
    "###### Que1. What is \"serialization\" when we are talking about web services?"
   ]
  },
  {
   "cell_type": "markdown",
   "metadata": {},
   "source": [
    "Ans:-  The act of taking data stored in a program and formatting it so it can be sent across the network"
   ]
  },
  {
   "cell_type": "markdown",
   "metadata": {},
   "source": [
    "###### Que2. Which of the following are not commonly used serialization formats?Which of the following are not commonly used serialization formats?"
   ]
  },
  {
   "cell_type": "markdown",
   "metadata": {},
   "source": [
    "Ans:-  TCP, Dictionaries, HTTP"
   ]
  },
  {
   "cell_type": "markdown",
   "metadata": {},
   "source": [
    "###### Que3. In this XML, which are the \"simple elements\"?\n",
    "\n",
    "        <people>\n",
    "             <person>\n",
    "                <name>Chuck</name>\n",
    "                <phone>303 4456</phone>\n",
    "             </person>\n",
    "             <person>\n",
    "                <name>Noah</name>\n",
    "                <phone>622 7421</phone>\n",
    "             </person>\n",
    "         </people>"
   ]
  },
  {
   "cell_type": "markdown",
   "metadata": {},
   "source": [
    "Ans:- name, phone"
   ]
  },
  {
   "cell_type": "markdown",
   "metadata": {},
   "source": [
    "###### Que4. In the following XML, which are attributes?\n",
    "        <person>\n",
    "           <name>Chuck</name>\n",
    "           <phone type=\"intl\">\n",
    "              +1 734 303 4456\n",
    "           </phone>\n",
    "           <email hide=\"yes\" />\n",
    "        </person>"
   ]
  },
  {
   "cell_type": "markdown",
   "metadata": {},
   "source": [
    "Ans:- type, hide"
   ]
  },
  {
   "cell_type": "markdown",
   "metadata": {},
   "source": [
    "###### Que5. In the following XML, which node is the parent node of node e\n",
    "        <a>\n",
    "           <b>X</b>\n",
    "           <c>\n",
    "             <d>Y</d>\n",
    "             <e>Z</e>\n",
    "           </c>\n",
    "        </a>"
   ]
  },
  {
   "cell_type": "markdown",
   "metadata": {},
   "source": [
    "Ans:- c"
   ]
  },
  {
   "cell_type": "markdown",
   "metadata": {},
   "source": [
    "###### Que6. Looking at the following XML, what text value would we find at path \"/a/c/e\"\n",
    "        <a>\n",
    "           <b>X</b>\n",
    "           <c>\n",
    "             <d>Y</d>\n",
    "             <e>Z</e>\n",
    "           </c>\n",
    "        </a>"
   ]
  },
  {
   "cell_type": "markdown",
   "metadata": {},
   "source": [
    "Ans:-  z"
   ]
  },
  {
   "cell_type": "markdown",
   "metadata": {},
   "source": [
    "###### Que7. What is the purpose of XML Schema?\n"
   ]
  },
  {
   "cell_type": "markdown",
   "metadata": {},
   "source": [
    "Ans:- To establish a contract as to what is valid XML"
   ]
  },
  {
   "cell_type": "markdown",
   "metadata": {},
   "source": [
    "###### Que8. For this XML Schema:\n",
    "        <xs:complexType name=”person”>\n",
    "          <xs:sequence>\n",
    "            <xs:element name=\"lastname\" type=\"xs:string\"/>\n",
    "            <xs:element name=\"age\" type=\"xs:integer\"/>\n",
    "            <xs:element name=\"dateborn\" type=\"xs:date\"/>\n",
    "          </xs:sequence>\n",
    "        </xs:complexType>\n",
    "        \n",
    "And this XML,\n",
    "\n",
    "            <person>\n",
    "               <lastname>Severance</lastname>\n",
    "               <Age>17</Age>\n",
    "               <dateborn>2001-04-17</dateborn>\n",
    "            </person>\n",
    "Which tag is incorrect?"
   ]
  },
  {
   "cell_type": "markdown",
   "metadata": {},
   "source": [
    "Ans:- Age"
   ]
  },
  {
   "cell_type": "markdown",
   "metadata": {},
   "source": [
    "###### Que9. What does the \"Z\" mean in this representation of a time:\n",
    "        2002-05-30T09:30:10Z"
   ]
  },
  {
   "cell_type": "markdown",
   "metadata": {},
   "source": [
    "Ans:-  This time is in the UTC timezone"
   ]
  },
  {
   "cell_type": "markdown",
   "metadata": {},
   "source": [
    "###### Que10. Which of the following dates is in ISO8601 format?"
   ]
  },
  {
   "cell_type": "markdown",
   "metadata": {},
   "source": [
    "Ans:- 2002-05-30T09:30:10Z"
   ]
  },
  {
   "cell_type": "markdown",
   "metadata": {},
   "source": [
    "# Bye"
   ]
  }
 ],
 "metadata": {
  "kernelspec": {
   "display_name": "Python 3",
   "language": "python",
   "name": "python3"
  },
  "language_info": {
   "codemirror_mode": {
    "name": "ipython",
    "version": 3
   },
   "file_extension": ".py",
   "mimetype": "text/x-python",
   "name": "python",
   "nbconvert_exporter": "python",
   "pygments_lexer": "ipython3",
   "version": "3.7.3"
  }
 },
 "nbformat": 4,
 "nbformat_minor": 2
}
