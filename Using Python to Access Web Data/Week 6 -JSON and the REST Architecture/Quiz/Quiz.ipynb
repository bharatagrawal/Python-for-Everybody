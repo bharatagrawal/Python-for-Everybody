{
 "cells": [
  {
   "cell_type": "markdown",
   "metadata": {},
   "source": [
    "#  Chapter 13 - REST, JSON, and APIs Quiz"
   ]
  },
  {
   "cell_type": "markdown",
   "metadata": {},
   "source": [
    "###### Que1: Who is credited with getting the JSON movement started?\n"
   ]
  },
  {
   "cell_type": "markdown",
   "metadata": {},
   "source": [
    "Ans: Douglas Crockford"
   ]
  },
  {
   "cell_type": "markdown",
   "metadata": {},
   "source": [
    "###### Que2: Which of the following is true about an API?"
   ]
  },
  {
   "cell_type": "markdown",
   "metadata": {},
   "source": [
    "Ans: An API is a contract that defines how to use a software library"
   ]
  },
  {
   "cell_type": "markdown",
   "metadata": {},
   "source": [
    "###### Que3: Which of the following is a web services approach used by the Twitter API?"
   ]
  },
  {
   "cell_type": "markdown",
   "metadata": {},
   "source": [
    "Ans: REST"
   ]
  },
  {
   "cell_type": "markdown",
   "metadata": {},
   "source": [
    "###### Que4: What kind of variable will you get in Python when the following JSON is parsed:\n",
    "        { \"id\" : \"001\", \"x\" : \"2\", \"name\" : \"Chuck\" }"
   ]
  },
  {
   "cell_type": "markdown",
   "metadata": {},
   "source": [
    "Ans: A dictionary with three key / value pairs"
   ]
  },
  {
   "cell_type": "markdown",
   "metadata": {},
   "source": [
    "###### Que5: Which of the following is not true about the service-oriented approach?"
   ]
  },
  {
   "cell_type": "markdown",
   "metadata": {},
   "source": [
    "Ans: An application runs together all in one place"
   ]
  },
  {
   "cell_type": "markdown",
   "metadata": {},
   "source": [
    "###### Que6: If the following JSON were parsed and put into the variable x,\n",
    "\n",
    "        {\n",
    "            \"users\": [\n",
    "                {\n",
    "                    \"status\": {\n",
    "                        \"text\": \"@jazzychad I just bought one .__.\",\n",
    "                     },\n",
    "                     \"location\": \"San Francisco, California\",\n",
    "                     \"screen_name\": \"leahculver\",\n",
    "                     \"name\": \"Leah Culver\",\n",
    "                 },\n",
    "           ...\n",
    "           \n",
    " what Python code would extract \"Leah Culver\" from the JSON?¶"
   ]
  },
  {
   "cell_type": "markdown",
   "metadata": {},
   "source": [
    "Ans: x[\"users\"][0][\"name\"]"
   ]
  },
  {
   "cell_type": "markdown",
   "metadata": {},
   "source": [
    "###### Que7: What library call do you make to append properly encoded parameters to the end of a URL like the following:\n",
    "        http://maps.googleapis.com/maps/api/geocode/json?sensor=false&address=Ann+Arbor%2C+MI"
   ]
  },
  {
   "cell_type": "markdown",
   "metadata": {},
   "source": [
    "Ans: urllib.parse.urlencode()"
   ]
  },
  {
   "cell_type": "markdown",
   "metadata": {},
   "source": [
    "###### Que8: What happens when you exceed the Google geocoding API rate limit?\n"
   ]
  },
  {
   "cell_type": "markdown",
   "metadata": {},
   "source": [
    "Ans: You cannot use the API for 24 hours"
   ]
  },
  {
   "cell_type": "markdown",
   "metadata": {},
   "source": [
    "###### Que9:  What protocol does Twitter use to protect its API?\n"
   ]
  },
  {
   "cell_type": "markdown",
   "metadata": {},
   "source": [
    "Ans:  OAuth\n"
   ]
  },
  {
   "cell_type": "markdown",
   "metadata": {},
   "source": [
    "###### Que10: What header does Twitter use to tell you how many more API requests you can make before you will be rate limited?\n"
   ]
  },
  {
   "cell_type": "markdown",
   "metadata": {},
   "source": [
    "Ans: x-rate-limit-remaining¶"
   ]
  },
  {
   "cell_type": "markdown",
   "metadata": {},
   "source": [
    "# Bye"
   ]
  }
 ],
 "metadata": {
  "kernelspec": {
   "display_name": "Python 3",
   "language": "python",
   "name": "python3"
  },
  "language_info": {
   "codemirror_mode": {
    "name": "ipython",
    "version": 3
   },
   "file_extension": ".py",
   "mimetype": "text/x-python",
   "name": "python",
   "nbconvert_exporter": "python",
   "pygments_lexer": "ipython3",
   "version": "3.7.3"
  }
 },
 "nbformat": 4,
 "nbformat_minor": 2
}
